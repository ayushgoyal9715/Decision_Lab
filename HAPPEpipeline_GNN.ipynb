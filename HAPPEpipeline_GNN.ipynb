{
 "cells": [
  {
   "cell_type": "code",
   "execution_count": null,
   "id": "6e097b20-b60b-44af-b396-f6a8315a17a7",
   "metadata": {},
   "outputs": [],
   "source": [
    "import os\n",
    "import mne\n",
    "from mne.preprocessing import ICA\n",
    "import numpy as np\n",
    "from mne.time_frequency import tfr_multitaper\n",
    "from sklearn.preprocessing import StandardScaler\n",
    "from sklearn.model_selection import train_test_split\n",
    "from torch.utils.data import TensorDataset, DataLoader\n",
    "import torch\n",
    "import torch.optim as optim\n",
    "import torch.nn as nn\n",
    "import torch_geometric\n",
    "from torch_geometric.nn import GCNConv, global_mean_pool"
   ]
  },
  {
   "cell_type": "code",
   "execution_count": null,
   "id": "fbfd531a-1ce6-4d21-a9b9-c119dea81c33",
   "metadata": {},
   "outputs": [],
   "source": [
    "chan_IDs = ['FP1', 'FP2' , 'F7' ,'F8']"
   ]
  },
  {
   "cell_type": "code",
   "execution_count": null,
   "id": "ebf8a612-b920-460d-9151-bd4700adeb66",
   "metadata": {},
   "outputs": [],
   "source": [
    "pipeline_visualizations_semiautomated = False\n",
    "vis_freq_min = 2\n",
    "vis_freq_max = 57\n",
    "freq_to_plot = [6, 10, 20, 30, 55]"
   ]
  },
  {
   "cell_type": "code",
   "execution_count": null,
   "id": "68e1a8c6-1cbb-4cab-bccd-a6c8ddc9b576",
   "metadata": {},
   "outputs": [],
   "source": [
    "pipeline_visualizations_semiautomated = False\n",
    "vis_freq_min = 2\n",
    "vis_freq_max = 57\n",
    "freq_to_plot = [6, 10, 20, 30, 55]\n",
    "task_EEG_processing = False\n",
    "segment_data = True\n",
    "segment_length = 2 \n",
    "segment_interpolation = True\n",
    "segment_rejection = False\n",
    "average_rereference = True"
   ]
  },
  {
   "cell_type": "code",
   "execution_count": null,
   "id": "e6a87c3a-c248-45d8-9916-d1f025ad8dda",
   "metadata": {},
   "outputs": [],
   "source": [
    "src_folder_name='eeg_data'\n",
    "file_names = [f for f in os.listdir(src_folder_name) if f.endswith('.edf')]"
   ]
  },
  {
   "cell_type": "code",
   "execution_count": null,
   "id": "b57c3f06-f336-4b7e-b7a7-f7a35e5c7f4a",
   "metadata": {},
   "outputs": [],
   "source": [
    "metrics = {\n",
    "    \"Number_ICs_Rejected\": [],\n",
    "    \"File_Length_In_Secs\": [],\n",
    "    \"Percent_Variance_Kept_of_Post_Waveleted_Data\": []\n",
    "}"
   ]
  },
  {
   "cell_type": "code",
   "execution_count": null,
   "id": "73ba03e4-5da9-4d7e-8555-c53c5084ff02",
   "metadata": {},
   "outputs": [],
   "source": [
    "def load_and_extract_intervals(file_path):\n",
    "    # Load the raw data\n",
    "    raw = mne.io.read_raw_edf(file_path, preload=True)\n",
    "\n",
    "    raw_picked = raw.pick_channels(chan_IDs)\n",
    "\n",
    "    # Set the montage and ignore missing channels\n",
    "    # raw.set_montage(montage, on_missing='ignore')\n",
    "    \n",
    "    # Filter the data (1 Hz highpass, 50 Hz notch for powerline noise)\n",
    "    raw.filter(1, 50, fir_design='firwin')\n",
    "\n",
    "    # Plot the power spectrum if visualization is enabled\n",
    "    if pipeline_visualizations_semiautomated:\n",
    "        raw.plot_psd(fmin=vis_freq_min, fmax=vis_freq_max)\n",
    "\n",
    "    # ICA for artifact removal\n",
    "    ica = ICA(n_components=2, random_state=97, max_iter=800)\n",
    "    ica.fit(raw)\n",
    "\n",
    "    # Re-reference data to average if specified\n",
    "    if average_rereference:\n",
    "        raw.set_eeg_reference('average', projection=True)\n",
    "\n",
    "    # Segmentation (epoching the data)\n",
    "    if segment_data:\n",
    "        if not task_EEG_processing:\n",
    "            events = mne.make_fixed_length_events(raw, duration=segment_length)\n",
    "        else:\n",
    "            # If task-related EEG, use predefined conditions (not applicable here)\n",
    "            raise NotImplementedError(\"Task EEG not implemented yet.\")\n",
    "\n",
    "        # Epoch the data\n",
    "        # Set the baseline to a reasonable range (e.g., 200 ms before the event to the event itself)\n",
    "        # epochs = mne.Epochs(raw, events, tmin=-0.2, tmax=segment_length, baseline=(None, 0), preload=True)\n",
    "        sfreq = raw.info['sfreq']\n",
    "        max_time = raw.times[-1]\n",
    "        interval_1=(300, 600)\n",
    "        interval_2=(1500, 1860)\n",
    "            \n",
    "        # Convert intervals to seconds\n",
    "        interval_1_sec = (interval_1[0] / sfreq, interval_1[1] / sfreq)\n",
    "        interval_2_sec = (interval_2[0] / sfreq, interval_2[1] / sfreq)\n",
    "            \n",
    "        # Adjust intervals if they exceed the recording duration\n",
    "        interval_1_sec = (max(0, interval_1_sec[0]), min(max_time, interval_1_sec[1]))\n",
    "        interval_2_sec = (max(0, interval_2_sec[0]), min(max_time, interval_2_sec[1]))\n",
    "\n",
    "        no_stress_interval = raw.copy().crop(tmin=interval_1_sec[0], tmax=interval_1_sec[1])\n",
    "        stressed_interval = raw.copy().crop(tmin=interval_2_sec[0], tmax=interval_2_sec[1])\n",
    "        epochs_no_stress=mne.make_fixed_length_epochs(no_stress_interval,duration=1,overlap=0.5)\n",
    "        array_no_streesed=epochs_no_stress.get_data()\n",
    "                \n",
    "        epochs_stressed=mne.make_fixed_length_epochs(stressed_interval,duration=1,overlap=0.5)\n",
    "        array_streesed=epochs_stressed.get_data()\n",
    "\n",
    "    \n",
    "    # Record metrics for each file (example)\n",
    "    metrics[\"Number_ICs_Rejected\"].append(len(ica.exclude))\n",
    "    metrics[\"File_Length_In_Secs\"].append(raw.times[-1])\n",
    "    return array_no_streesed,array_streesed"
   ]
  },
  {
   "cell_type": "code",
   "execution_count": null,
   "id": "a7d56b7f-9af1-4502-b265-2decca67b5b0",
   "metadata": {},
   "outputs": [],
   "source": [
    "# Initialize lists to hold data and labels\n",
    "all_data = []\n",
    "all_labels = []\n",
    "\n",
    "for file in file_names:\n",
    "    file_path=os.path.join(src_folder_name, file)\n",
    "    no_stressed,stressed = load_and_extract_intervals(file_path)    \n",
    "    all_data.append(stressed[0])\n",
    "    all_data.append(no_stressed[0])\n",
    "    all_labels.append(1)\n",
    "    all_labels.append(0)\n",
    "\n",
    "all_data = np.array(all_data)\n",
    "all_labels = np.array(all_labels)"
   ]
  },
  {
   "cell_type": "code",
   "execution_count": null,
   "id": "8318d78b-62fb-4de5-b57f-477208d9e1cf",
   "metadata": {},
   "outputs": [],
   "source": [
    "scaler = StandardScaler()\n",
    "all_data = scaler.fit_transform(all_data.reshape(-1, all_data.shape[-1])).reshape(all_data.shape)"
   ]
  },
  {
   "cell_type": "code",
   "execution_count": null,
   "id": "814e0a39-1645-4557-ba4b-d2951cf8a05f",
   "metadata": {},
   "outputs": [],
   "source": [
    "indices = np.arange(all_data.shape[0])\n",
    "np.random.shuffle(indices)\n",
    "\n",
    "all_data = all_data[indices]\n",
    "all_labels = all_labels[indices]"
   ]
  },
  {
   "cell_type": "code",
   "execution_count": null,
   "id": "8c6897e8-a133-4424-9590-98ef347b6cd2",
   "metadata": {},
   "outputs": [],
   "source": [
    "X_train, X_test, y_train, y_test = train_test_split(all_data, all_labels, test_size=0.2, random_state=42)"
   ]
  },
  {
   "cell_type": "code",
   "execution_count": null,
   "id": "67a409ef-540c-4ba1-a36e-96ed3228c417",
   "metadata": {},
   "outputs": [],
   "source": [
    "train_dataset = TensorDataset(torch.tensor(X_train, dtype=torch.float32), torch.tensor(y_train, dtype=torch.long))\n",
    "test_dataset = TensorDataset(torch.tensor(X_test, dtype=torch.float32), torch.tensor(y_test, dtype=torch.long))\n",
    "\n",
    "train_loader = DataLoader(train_dataset, batch_size=32, shuffle=True)\n",
    "test_loader = DataLoader(test_dataset, batch_size=32, shuffle=False)"
   ]
  },
  {
   "cell_type": "code",
   "execution_count": null,
   "id": "76032094-7308-4b43-8c40-a708e222b694",
   "metadata": {},
   "outputs": [],
   "source": []
  },
  {
   "cell_type": "code",
   "execution_count": null,
   "id": "c41fc317-404a-4895-aada-6442c38460db",
   "metadata": {},
   "outputs": [],
   "source": [
    "\n",
    "\n",
    "\n",
    "class GNNModel(nn.Module):\n",
    "    def __init__(self, num_features, num_classes):\n",
    "        super(GNNModel, self).__init__()\n",
    "        self.conv1 = GCNConv(num_features, 64)\n",
    "        self.conv2 = GCNConv(64, 128)\n",
    "        self.fc1 = nn.Linear(128, 64)\n",
    "        self.fc2 = nn.Linear(64, num_classes)\n",
    "\n",
    "    def forward(self, data):\n",
    "        x, edge_index = data.x, data.edge_index\n",
    "        x = self.conv1(x, edge_index)\n",
    "        x = torch.relu(x)\n",
    "        x = self.conv2(x, edge_index)\n",
    "        x = torch.relu(x)\n",
    "        x = global_mean_pool(x, data.batch)\n",
    "        x = self.fc1(x)\n",
    "        x = torch.relu(x)\n",
    "        x = self.fc2(x)\n",
    "        return x\n"
   ]
  }
 ],
 "metadata": {
  "kernelspec": {
   "display_name": "Python 3 (ipykernel)",
   "language": "python",
   "name": "python3"
  },
  "language_info": {
   "codemirror_mode": {
    "name": "ipython",
    "version": 3
   },
   "file_extension": ".py",
   "mimetype": "text/x-python",
   "name": "python",
   "nbconvert_exporter": "python",
   "pygments_lexer": "ipython3",
   "version": "3.12.0"
  }
 },
 "nbformat": 4,
 "nbformat_minor": 5
}
