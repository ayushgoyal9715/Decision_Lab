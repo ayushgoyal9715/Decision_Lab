{
 "cells": [
  {
   "cell_type": "code",
   "execution_count": 103,
   "id": "814f52ed-bbc4-4954-90b7-8b5ff30ac10e",
   "metadata": {},
   "outputs": [],
   "source": [
    "import os\n",
    "import mne\n",
    "from mne.preprocessing import ICA\n",
    "import numpy as np\n",
    "from mne.time_frequency import tfr_multitaper\n",
    "from sklearn.preprocessing import StandardScaler\n",
    "from sklearn.model_selection import train_test_split\n",
    "from torch.utils.data import TensorDataset, DataLoader\n",
    "import torch\n",
    "import torch.optim as optim\n",
    "import torch.nn as nn"
   ]
  },
  {
   "cell_type": "code",
   "execution_count": 119,
   "id": "bd80569f-9471-478b-a6b2-65436b797b7e",
   "metadata": {},
   "outputs": [],
   "source": [
    "chan_IDs = ['FP1', 'FP2' , 'F7' ,'F8']"
   ]
  },
  {
   "cell_type": "code",
   "execution_count": 120,
   "id": "083d98f5-210b-4291-8a5d-1fc11778381b",
   "metadata": {},
   "outputs": [],
   "source": [
    "pipeline_visualizations_semiautomated = False\n",
    "vis_freq_min = 2\n",
    "vis_freq_max = 57\n",
    "freq_to_plot = [6, 10, 20, 30, 55]"
   ]
  },
  {
   "cell_type": "code",
   "execution_count": 121,
   "id": "58a0975a-9a23-4dc7-96c8-7c52dd221ac3",
   "metadata": {},
   "outputs": [],
   "source": [
    "pipeline_visualizations_semiautomated = False\n",
    "vis_freq_min = 2\n",
    "vis_freq_max = 57\n",
    "freq_to_plot = [6, 10, 20, 30, 55]\n",
    "task_EEG_processing = False\n",
    "segment_data = True\n",
    "segment_length = 2 \n",
    "segment_interpolation = True\n",
    "segment_rejection = False\n",
    "average_rereference = True"
   ]
  },
  {
   "cell_type": "code",
   "execution_count": 122,
   "id": "94e60e4f-fc2d-4cb8-8860-f7580ae587e9",
   "metadata": {},
   "outputs": [],
   "source": [
    "src_folder_name='eeg_data'\n",
    "file_names = [f for f in os.listdir(src_folder_name) if f.endswith('.edf')]"
   ]
  },
  {
   "cell_type": "code",
   "execution_count": 123,
   "id": "67713172-809e-4622-b053-4291ceb80a67",
   "metadata": {},
   "outputs": [],
   "source": [
    "metrics = {\n",
    "    \"Number_ICs_Rejected\": [],\n",
    "    \"File_Length_In_Secs\": [],\n",
    "    \"Percent_Variance_Kept_of_Post_Waveleted_Data\": []\n",
    "}"
   ]
  },
  {
   "cell_type": "code",
   "execution_count": 125,
   "id": "993d18b0-c0e1-4bcb-ba79-188426869362",
   "metadata": {
    "scrolled": true
   },
   "outputs": [],
   "source": [
    "def load_and_extract_intervals(file_path):\n",
    "    # Load the raw data\n",
    "    raw = mne.io.read_raw_edf(file_path, preload=True)\n",
    "\n",
    "    raw_picked = raw.pick_channels(chan_IDs)\n",
    "\n",
    "    # Set the montage and ignore missing channels\n",
    "    # raw.set_montage(montage, on_missing='ignore')\n",
    "    \n",
    "    # Filter the data (1 Hz highpass, 50 Hz notch for powerline noise)\n",
    "    raw.filter(1, 50, fir_design='firwin')\n",
    "\n",
    "    # Plot the power spectrum if visualization is enabled\n",
    "    if pipeline_visualizations_semiautomated:\n",
    "        raw.plot_psd(fmin=vis_freq_min, fmax=vis_freq_max)\n",
    "\n",
    "    # ICA for artifact removal\n",
    "    ica = ICA(n_components=2, random_state=97, max_iter=800)\n",
    "    ica.fit(raw)\n",
    "\n",
    "    # Re-reference data to average if specified\n",
    "    if average_rereference:\n",
    "        raw.set_eeg_reference('average', projection=True)\n",
    "\n",
    "    # Segmentation (epoching the data)\n",
    "    if segment_data:\n",
    "        if not task_EEG_processing:\n",
    "            events = mne.make_fixed_length_events(raw, duration=segment_length)\n",
    "        else:\n",
    "            # If task-related EEG, use predefined conditions (not applicable here)\n",
    "            raise NotImplementedError(\"Task EEG not implemented yet.\")\n",
    "\n",
    "        # Epoch the data\n",
    "        # Set the baseline to a reasonable range (e.g., 200 ms before the event to the event itself)\n",
    "        # epochs = mne.Epochs(raw, events, tmin=-0.2, tmax=segment_length, baseline=(None, 0), preload=True)\n",
    "        sfreq = raw.info['sfreq']\n",
    "        max_time = raw.times[-1]\n",
    "        interval_1=(300, 600)\n",
    "        interval_2=(1500, 1860)\n",
    "            \n",
    "        # Convert intervals to seconds\n",
    "        interval_1_sec = (interval_1[0] / sfreq, interval_1[1] / sfreq)\n",
    "        interval_2_sec = (interval_2[0] / sfreq, interval_2[1] / sfreq)\n",
    "            \n",
    "        # Adjust intervals if they exceed the recording duration\n",
    "        interval_1_sec = (max(0, interval_1_sec[0]), min(max_time, interval_1_sec[1]))\n",
    "        interval_2_sec = (max(0, interval_2_sec[0]), min(max_time, interval_2_sec[1]))\n",
    "\n",
    "        no_stress_interval = raw.copy().crop(tmin=interval_1_sec[0], tmax=interval_1_sec[1])\n",
    "        stressed_interval = raw.copy().crop(tmin=interval_2_sec[0], tmax=interval_2_sec[1])\n",
    "        epochs_no_stress=mne.make_fixed_length_epochs(no_stress_interval,duration=1,overlap=0.5)\n",
    "        array_no_streesed=epochs_no_stress.get_data()\n",
    "                \n",
    "        epochs_stressed=mne.make_fixed_length_epochs(stressed_interval,duration=1,overlap=0.5)\n",
    "        array_streesed=epochs_stressed.get_data()\n",
    "\n",
    "    \n",
    "    # Record metrics for each file (example)\n",
    "    metrics[\"Number_ICs_Rejected\"].append(len(ica.exclude))\n",
    "    metrics[\"File_Length_In_Secs\"].append(raw.times[-1])\n",
    "    return array_no_streesed,array_streesed"
   ]
  },
  {
   "cell_type": "code",
   "execution_count": 136,
   "id": "d515507d-e1ee-430b-b177-4c09029ef97a",
   "metadata": {},
   "outputs": [],
   "source": [
    "# Initialize lists to hold data and labels\n",
    "all_data = []\n",
    "all_labels = []\n",
    "\n",
    "for file in file_names:\n",
    "    file_path=os.path.join(src_folder_name, file)\n",
    "    no_stressed,stressed = load_and_extract_intervals(file_path)    \n",
    "    all_data.append(stressed[0])\n",
    "    all_data.append(no_stressed[0])\n",
    "    all_labels.append(1)\n",
    "    all_labels.append(0)\n",
    "\n",
    "all_data = np.array(all_data)\n",
    "all_labels = np.array(all_labels)"
   ]
  },
  {
   "cell_type": "code",
   "execution_count": 127,
   "id": "92bb06cf-f550-43d8-bb6f-2b0e382739c5",
   "metadata": {},
   "outputs": [],
   "source": [
    "scaler = StandardScaler()\n",
    "all_data = scaler.fit_transform(all_data.reshape(-1, all_data.shape[-1])).reshape(all_data.shape)"
   ]
  },
  {
   "cell_type": "code",
   "execution_count": 128,
   "id": "fd5af5d8-c563-42b6-86ba-512789878946",
   "metadata": {},
   "outputs": [],
   "source": [
    "indices = np.arange(all_data.shape[0])\n",
    "np.random.shuffle(indices)\n",
    "\n",
    "all_data = all_data[indices]\n",
    "all_labels = all_labels[indices]"
   ]
  },
  {
   "cell_type": "code",
   "execution_count": 129,
   "id": "ddeee540-df13-4d6c-a89c-661b770aa7df",
   "metadata": {},
   "outputs": [],
   "source": [
    "X_train, X_test, y_train, y_test = train_test_split(all_data, all_labels, test_size=0.2, random_state=42)"
   ]
  },
  {
   "cell_type": "code",
   "execution_count": 130,
   "id": "31f02c1a-5cb5-45aa-8366-f419fee83f72",
   "metadata": {},
   "outputs": [],
   "source": [
    "train_dataset = TensorDataset(torch.tensor(X_train, dtype=torch.float32), torch.tensor(y_train, dtype=torch.long))\n",
    "test_dataset = TensorDataset(torch.tensor(X_test, dtype=torch.float32), torch.tensor(y_test, dtype=torch.long))\n",
    "\n",
    "train_loader = DataLoader(train_dataset, batch_size=32, shuffle=True)\n",
    "test_loader = DataLoader(test_dataset, batch_size=32, shuffle=False)"
   ]
  },
  {
   "cell_type": "code",
   "execution_count": 131,
   "id": "946a1d03-74be-4b9c-9855-e5f76750decb",
   "metadata": {},
   "outputs": [],
   "source": [
    "class EEGNet(nn.Module):\n",
    "    def __init__(self):\n",
    "        super(EEGNet, self).__init__()\n",
    "        self.conv1 = nn.Conv1d(in_channels=4, out_channels=16, kernel_size=3, padding=1)\n",
    "        self.pool = nn.MaxPool1d(kernel_size=2, stride=2, padding=0)\n",
    "        self.fc1 = nn.Linear(16 * (X_train.shape[2] // 2), 64)\n",
    "        self.fc2 = nn.Linear(64, 2)\n",
    "        self.dropout = nn.Dropout(0.5)\n",
    "        self.relu = nn.ReLU()\n",
    "        \n",
    "    def forward(self, x):\n",
    "        x = self.pool(self.relu(self.conv1(x)))\n",
    "        x = x.view(-1, 16 * (X_train.shape[2] // 2))\n",
    "        x = self.dropout(self.relu(self.fc1(x)))\n",
    "        x = self.fc2(x)\n",
    "        return x\n",
    "\n",
    "model = EEGNet()\n",
    "criterion = nn.CrossEntropyLoss()\n",
    "optimizer = optim.Adam(model.parameters(), lr=0.001)"
   ]
  },
  {
   "cell_type": "code",
   "execution_count": 135,
   "id": "ccc9b82f-38f3-4410-935b-da1504767df1",
   "metadata": {},
   "outputs": [],
   "source": [
    "num_epochs = 20\n",
    "\n",
    "for epoch in range(num_epochs):\n",
    "    model.train()\n",
    "    running_loss = 0.0\n",
    "    for inputs, labels in train_loader:\n",
    "        optimizer.zero_grad()\n",
    "        outputs = model(inputs)\n",
    "        loss = criterion(outputs, labels)\n",
    "        loss.backward()\n",
    "        optimizer.step()\n",
    "        running_loss += loss.item()\n",
    "\n",
    "    print(f'Epoch {epoch+1}/{num_epochs}, Loss: {running_loss/len(train_loader)}')"
   ]
  },
  {
   "cell_type": "code",
   "execution_count": 134,
   "id": "f82a9289-4198-4f99-8ebc-40ae4e1a35ca",
   "metadata": {},
   "outputs": [],
   "source": [
    "model.eval()\n",
    "correct = 0\n",
    "total = 0\n",
    "with torch.no_grad():\n",
    "    for inputs, labels in test_loader:\n",
    "        outputs = model(inputs)\n",
    "        _, predicted = torch.max(outputs.data, 1)\n",
    "        total += labels.size(0)\n",
    "        print(predicted)\n",
    "        print(labels)\n",
    "        correct += (predicted == labels).sum().item()\n",
    "\n",
    "print(f'Accuracy: {100 * correct / total}%')"
   ]
  },
  {
   "cell_type": "code",
   "execution_count": null,
   "id": "2f9398c5-0c3f-43ee-95b1-06be2a6cf67d",
   "metadata": {},
   "outputs": [],
   "source": []
  }
 ],
 "metadata": {
  "kernelspec": {
   "display_name": "Python 3 (ipykernel)",
   "language": "python",
   "name": "python3"
  },
  "language_info": {
   "codemirror_mode": {
    "name": "ipython",
    "version": 3
   },
   "file_extension": ".py",
   "mimetype": "text/x-python",
   "name": "python",
   "nbconvert_exporter": "python",
   "pygments_lexer": "ipython3",
   "version": "3.12.0"
  }
 },
 "nbformat": 4,
 "nbformat_minor": 5
}
